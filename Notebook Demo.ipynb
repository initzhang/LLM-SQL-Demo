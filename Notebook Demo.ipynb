{
 "cells": [
  {
   "cell_type": "markdown",
   "id": "16351f71",
   "metadata": {},
   "source": [
    "# Example of DuckDB UDF and List"
   ]
  },
  {
   "cell_type": "code",
   "execution_count": 1,
   "id": "5371ce26",
   "metadata": {},
   "outputs": [
    {
     "data": {
      "text/plain": [
       "┌──────────────────────────────────┐\n",
       "│ my_func(main.list_value(32, 42)) │\n",
       "│             varchar              │\n",
       "├──────────────────────────────────┤\n",
       "│ [32, 42]                         │\n",
       "└──────────────────────────────────┘"
      ]
     },
     "execution_count": 1,
     "metadata": {},
     "output_type": "execute_result"
    }
   ],
   "source": [
    "import duckdb\n",
    "from typing import List \n",
    "\n",
    "def my_function(x: List) -> str:\n",
    "    return x\n",
    "\n",
    "duckdb.create_function(\"my_func\", my_function)\n",
    "sample_list = [32, 42]\n",
    "duckdb.sql(f\"SELECT my_func({sample_list})\")"
   ]
  },
  {
   "cell_type": "code",
   "execution_count": 2,
   "id": "2dfde3d7",
   "metadata": {},
   "outputs": [
    {
     "name": "stdout",
     "output_type": "stream",
     "text": [
      "[1, 2, 3, 4, 5]\n"
     ]
    }
   ],
   "source": [
    "import duckdb\n",
    "\n",
    "# Establish a connection to the database (this creates an in-memory database if no path is provided)\n",
    "conn = duckdb.connect(database=':memory:', read_only=False)\n",
    "\n",
    "# You would typically load your data here or ensure that your database contains the necessary tables.\n",
    "# For demonstration, I'll create a sample table and insert some data into it.\n",
    "conn.execute(\"CREATE TABLE example_table (example_column INT)\")\n",
    "conn.execute(\"INSERT INTO example_table VALUES (1), (2), (3), (4), (5)\")\n",
    "\n",
    "# Now, let's convert a column from the table into a Python list\n",
    "query_result = conn.execute(\"SELECT example_column FROM example_table\").fetchall()\n",
    "\n",
    "# Convert the result into a list (note that fetchall returns a list of tuples, so we extract the first element)\n",
    "example_list = [row[0] for row in query_result]\n",
    "\n",
    "# Close the connection\n",
    "conn.close()\n",
    "\n",
    "# Now you have your column data in a Python list\n",
    "print(example_list)"
   ]
  },
  {
   "cell_type": "markdown",
   "id": "eadcfb36",
   "metadata": {},
   "source": [
    "# Read Dataset"
   ]
  },
  {
   "cell_type": "code",
   "execution_count": 9,
   "id": "19c38f5a",
   "metadata": {},
   "outputs": [
    {
     "name": "stdout",
     "output_type": "stream",
     "text": [
      "   album_id                                  title  artist_id\n",
      "0         1  For Those About To Rock We Salute You          1\n",
      "1         2                      Balls to the Wall          2\n",
      "2         3                      Restless and Wild          2\n",
      "3         4                      Let There Be Rock          1\n",
      "4         5                               Big Ones          3\n"
     ]
    }
   ],
   "source": [
    "# Path to your DuckDB database file\n",
    "duckdb_db_path = 'chinook.duckdb'\n",
    "conn = duckdb.connect(duckdb_db_path)\n",
    "query = \"SELECT * FROM Albums;\"\n",
    "df = conn.execute(query).df()\n",
    "print(df.head())"
   ]
  },
  {
   "cell_type": "code",
   "execution_count": 10,
   "id": "5114e381",
   "metadata": {},
   "outputs": [
    {
     "name": "stdout",
     "output_type": "stream",
     "text": [
      "   artist_id               name\n",
      "0          1              AC/DC\n",
      "1          2             Accept\n",
      "2          3          Aerosmith\n",
      "3          4  Alanis Morissette\n",
      "4          5    Alice In Chains\n"
     ]
    }
   ],
   "source": [
    "query = \"SELECT * FROM Artists;\"\n",
    "df = conn.execute(query).df()\n",
    "print(df.head())"
   ]
  }
 ],
 "metadata": {
  "kernelspec": {
   "display_name": "myenv",
   "language": "python",
   "name": "myenv"
  },
  "language_info": {
   "codemirror_mode": {
    "name": "ipython",
    "version": 3
   },
   "file_extension": ".py",
   "mimetype": "text/x-python",
   "name": "python",
   "nbconvert_exporter": "python",
   "pygments_lexer": "ipython3",
   "version": "3.11.0"
  }
 },
 "nbformat": 4,
 "nbformat_minor": 5
}
