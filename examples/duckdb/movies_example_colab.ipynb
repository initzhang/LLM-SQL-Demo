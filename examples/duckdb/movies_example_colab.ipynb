{
 "cells": [
  {
   "cell_type": "markdown",
   "metadata": {},
   "source": [
    "# LLM Queries in DuckDB"
   ]
  },
  {
   "cell_type": "markdown",
   "metadata": {},
   "source": [
    "This notebook walks through how to call LLMs directly as a UDF in a DuckDB database using [vLLM](https://github.com/vllm-project/vllm) or [OpenAI](https://platform.openai.com/docs/api-reference) as the inference engine."
   ]
  },
  {
   "cell_type": "markdown",
   "metadata": {},
   "source": [
    "## Initialize the LLM Engine"
   ]
  },
  {
   "cell_type": "markdown",
   "metadata": {},
   "source": [
    "Choose between OpenAI or vLLM with a quantized version of Llama-3 8B"
   ]
  },
  {
   "cell_type": "code",
   "execution_count": 1,
   "metadata": {
    "tags": []
   },
   "outputs": [
    {
     "name": "stdout",
     "output_type": "stream",
     "text": [
      "Starting vLLM engine...\n",
      "WARNING 05-01 12:19:36 config.py:169] gptq quantization is not fully optimized yet. The speed can be slower than non-quantized models.\n",
      "INFO 05-01 12:19:36 llm_engine.py:98] Initializing an LLM engine (v0.4.1) with config: model='TechxGenus/Meta-Llama-3-8B-Instruct-GPTQ', speculative_config=None, tokenizer='TechxGenus/Meta-Llama-3-8B-Instruct-GPTQ', skip_tokenizer_init=False, tokenizer_mode=auto, revision=None, tokenizer_revision=None, trust_remote_code=False, dtype=torch.float16, max_seq_len=8192, download_dir=None, load_format=auto, tensor_parallel_size=1, disable_custom_all_reduce=False, quantization=gptq, enforce_eager=False, kv_cache_dtype=auto, quantization_param_path=None, device_config=cuda, decoding_config=DecodingConfig(guided_decoding_backend='outlines'), seed=0)\n"
     ]
    },
    {
     "name": "stderr",
     "output_type": "stream",
     "text": [
      "Special tokens have been added in the vocabulary, make sure the associated word embeddings are fine-tuned or trained.\n"
     ]
    },
    {
     "name": "stdout",
     "output_type": "stream",
     "text": [
      "INFO 05-01 12:19:36 utils.py:608] Found nccl from library /home/ray/.config/vllm/nccl/cu12/libnccl.so.2.18.1\n",
      "INFO 05-01 12:19:37 selector.py:65] Cannot use FlashAttention backend for Volta and Turing GPUs.\n",
      "INFO 05-01 12:19:37 selector.py:33] Using XFormers backend.\n",
      "INFO 05-01 12:19:39 weight_utils.py:193] Using model weights format ['*.safetensors']\n",
      "INFO 05-01 12:19:41 model_runner.py:173] Loading model weights took 5.3472 GB\n",
      "INFO 05-01 12:19:47 gpu_executor.py:119] # GPU blocks: 2602, # CPU blocks: 2048\n",
      "INFO 05-01 12:19:49 model_runner.py:976] Capturing the model for CUDA graphs. This may lead to unexpected consequences if the model is not static. To run the model in eager mode, set 'enforce_eager=True' or use '--enforce-eager' in the CLI.\n",
      "INFO 05-01 12:19:49 model_runner.py:980] CUDA graphs can take additional 1~3 GiB memory per GPU. If you are running out of memory, consider decreasing `gpu_memory_utilization` or enforcing eager mode. You can also reduce the `max_num_seqs` as needed to decrease memory usage.\n",
      "INFO 05-01 12:20:01 model_runner.py:1057] Graph capturing finished in 12 secs.\n",
      "INFO 05-01 12:20:01 block_manager_v1.py:235] Automatic prefix caching is enabled.\n"
     ]
    }
   ],
   "source": [
    "# Uncomment the below code to initialize llmsql with OpenAI\n",
    "\n",
    "# import llmsql\n",
    "# from llmsql.llm.openai import OpenAI\n",
    "\n",
    "\n",
    "# llmsql.init(OpenAI(base_url=\"https://api.openai.com/v1\", api_key=\"<INSERT_OPENAI_KEY>\"))\n",
    "\n",
    "\n",
    "# Uncomment the below code to initialize llmsql with vLLM\n",
    "\n",
    "import llmsql\n",
    "from llmsql.llm.vllm import vLLM\n",
    "from vllm import EngineArgs\n",
    "args = EngineArgs(model=\"TechxGenus/Meta-Llama-3-8B-Instruct-GPTQ\")\n",
    "\n",
    "llmsql.init(vLLM(engine_args=args))\n"
   ]
  },
  {
   "cell_type": "markdown",
   "metadata": {},
   "source": [
    "## Load the movies dataset as a DuckDB table"
   ]
  },
  {
   "cell_type": "code",
   "execution_count": 2,
   "metadata": {
    "tags": []
   },
   "outputs": [
    {
     "data": {
      "text/plain": [
       "<duckdb.duckdb.DuckDBPyConnection at 0x770f81b8ee70>"
      ]
     },
     "execution_count": 2,
     "metadata": {},
     "output_type": "execute_result"
    }
   ],
   "source": [
    "# Make sure you import duckdb from llmsql\n",
    "from llmsql.duckdb import duckdb\n",
    "\n",
    "# Create a table from the movies dataset\n",
    "conn = duckdb.connect(database=':memory:', read_only=False)\n",
    "conn.execute(\"CREATE TABLE movies AS SELECT * FROM read_csv('./movies_small.csv')\")\n",
    "conn.execute(\"CREATE TABLE movies_limit as SELECT * FROM movies WHERE review_content IS NOT NULL LIMIT 20\")"
   ]
  },
  {
   "cell_type": "code",
   "execution_count": 3,
   "metadata": {
    "tags": []
   },
   "outputs": [
    {
     "data": {
      "text/plain": [
       "┌──────────────┐\n",
       "│     name     │\n",
       "│   varchar    │\n",
       "├──────────────┤\n",
       "│ movies       │\n",
       "│ movies_limit │\n",
       "└──────────────┘"
      ]
     },
     "execution_count": 3,
     "metadata": {},
     "output_type": "execute_result"
    }
   ],
   "source": [
    "# View the table\n",
    "\n",
    "conn.sql(\"SHOW TABLES\")"
   ]
  },
  {
   "cell_type": "code",
   "execution_count": 4,
   "metadata": {
    "tags": []
   },
   "outputs": [
    {
     "data": {
      "text/plain": [
       "┌──────────────────────┬─────────────┬─────────┬─────────┬─────────┬─────────┐\n",
       "│     column_name      │ column_type │  null   │   key   │ default │  extra  │\n",
       "│       varchar        │   varchar   │ varchar │ varchar │ varchar │ varchar │\n",
       "├──────────────────────┼─────────────┼─────────┼─────────┼─────────┼─────────┤\n",
       "│ rotten_tomatoes_link │ VARCHAR     │ YES     │ NULL    │ NULL    │ NULL    │\n",
       "│ review_content       │ VARCHAR     │ YES     │ NULL    │ NULL    │ NULL    │\n",
       "│ movie_title          │ VARCHAR     │ YES     │ NULL    │ NULL    │ NULL    │\n",
       "│ movie_info           │ VARCHAR     │ YES     │ NULL    │ NULL    │ NULL    │\n",
       "│ id                   │ BIGINT      │ YES     │ NULL    │ NULL    │ NULL    │\n",
       "└──────────────────────┴─────────────┴─────────┴─────────┴─────────┴─────────┘"
      ]
     },
     "execution_count": 4,
     "metadata": {},
     "output_type": "execute_result"
    }
   ],
   "source": [
    "# Show fields in the movie_limit table\n",
    "\n",
    "conn.sql(\"DESCRIBE movies_limit\")"
   ]
  },
  {
   "cell_type": "markdown",
   "metadata": {},
   "source": [
    "## Run sample LLM Queries"
   ]
  },
  {
   "cell_type": "markdown",
   "metadata": {},
   "source": [
    "### LLMs in Projection Queries"
   ]
  },
  {
   "cell_type": "code",
   "execution_count": 7,
   "metadata": {
    "tags": []
   },
   "outputs": [
    {
     "data": {
      "application/vnd.jupyter.widget-view+json": {
       "model_id": "eddff36459e842e88514c3b2c6d0dff6",
       "version_major": 2,
       "version_minor": 0
      },
      "text/plain": [
       "FloatProgress(value=0.0, layout=Layout(width='auto'), style=ProgressStyle(bar_color='black'))"
      ]
     },
     "metadata": {},
     "output_type": "display_data"
    },
    {
     "name": "stdout",
     "output_type": "stream",
     "text": [
      "┌──────────────────────────────────────────────────────────────────────────────────────────────────────────┬───────────┐\n",
      "│                                              review_content                                              │ sentiment │\n",
      "│                                                 varchar                                                  │  varchar  │\n",
      "├──────────────────────────────────────────────────────────────────────────────────────────────────────────┼───────────┤\n",
      "│ It's a series of routines within a routine formula, and the result is as tedious as it sounds.           │ NEGATIVE  │\n",
      "│ A vulgar exercise of terror that, despite its defects, manages to stand out from its delectable predec…  │ POSITIVE  │\n",
      "│ After the Thin Man hasn't quite the spontaneity and charm of the original, but it's good mystery-comed…  │ POSITIVE  │\n",
      "│ You never really get angry at it. You just want to shake it up because the elements for a first-class …  │ NEGATIVE  │\n",
      "│ An excellent film.                                                                                       │ POSITIVE  │\n",
      "│ De Heer, who also wrote the script, would have us believe that a wife who's tired of her oblivious blo…  │ NEUTRAL   │\n",
      "│ Martin internalizes everything, and Coburn must communicate only through pained looks. It's a tremendo…  │ POSITIVE  │\n",
      "│ Amid the fawning interviews and familiar archival footage, the film offers a compelling window into hi…  │ NEUTRAL   │\n",
      "│ As slasher films go, this is about average. The sets are cheap, with most of the budget seemingly goin…  │ NEGATIVE  │\n",
      "│ The movie is magnificently photographed on location. The performances are authentic and understated, a…  │ POSITIVE  │\n",
      "│ It's really the feel-bad movie of the week. In a genius sort of way.                                     │ POSITIVE  │\n",
      "│ Plays like a middling episode of Law & Order: SVU, drawn out an extra half-hour and embellished with p…  │ NEGATIVE  │\n",
      "│ This is a gangster movie in a sense, but it is also about free enterprise.                               │ NEUTRAL   │\n",
      "│ When all is said and done, Bill is let down by Bill.                                                     │ NEUTRAL   │\n",
      "│ It reminds us that evil, in capital letters, is cyclical. [Full Review in Spanish]                       │ NEUTRAL   │\n",
      "│ A spy thriller with no thrills, no doubt an interesting cinematic gambit but not one we'd recommend.     │ NEGATIVE  │\n",
      "│ Diamond tries his best. Olivier over compensates, but the songs are classic.                             │ NEUTRAL   │\n",
      "│ Elia Kazan, as an afterthought, comments he wished he played up the corruption part of the story in mo…  │ NEUTRAL   │\n",
      "│ Exploiting what it is supposed to renounce, Badland combines a dreadfully long and dull screenplay and…  │ NEGATIVE  │\n",
      "│ Yakin and his cast are up to the job, but the current they tap into is so charged it proves overpoweri…  │ NEUTRAL   │\n",
      "├──────────────────────────────────────────────────────────────────────────────────────────────────────────┴───────────┤\n",
      "│ 20 rows                                                                                                    2 columns │\n",
      "└──────────────────────────────────────────────────────────────────────────────────────────────────────────────────────┘\n",
      "\n"
     ]
    }
   ],
   "source": [
    "query = (\n",
    "    \"SELECT review_content, LLM('Given a movie review as {review_content}, classify the review as either POSITIVE, NEGATIVE, or NEUTRAL.\" \n",
    "    \"Respond with just the category and no other text.', review_content) AS sentiment FROM movies_limit\")\n",
    "conn.sql(query).show()"
   ]
  },
  {
   "cell_type": "code",
   "execution_count": 9,
   "metadata": {
    "tags": []
   },
   "outputs": [
    {
     "data": {
      "application/vnd.jupyter.widget-view+json": {
       "model_id": "0ef626700ded409088b48d0c907954d6",
       "version_major": 2,
       "version_minor": 0
      },
      "text/plain": [
       "FloatProgress(value=0.0, layout=Layout(width='auto'), style=ProgressStyle(bar_color='black'))"
      ]
     },
     "metadata": {},
     "output_type": "display_data"
    },
    {
     "data": {
      "text/plain": [
       "┌──────────────────────┬──────────────────────┬──────────────────────┬─────────────────────────────────────────────────┐\n",
       "│     movie_title      │      movie_info      │    review_content    │                 character_names                 │\n",
       "│       varchar        │       varchar        │       varchar        │                     varchar                     │\n",
       "├──────────────────────┼──────────────────────┼──────────────────────┼─────────────────────────────────────────────────┤\n",
       "│ Amityville: The Aw…  │ When some footage …  │ It's a series of r…  │ None                                            │\n",
       "│ Amityville: The Aw…  │ When some footage …  │ A vulgar exercise …  │ None                                            │\n",
       "│ After the Thin Man   │ Recently returned …  │ After the Thin Man…  │ Nick Charles, Nora, Selma, Robert, David Graham │\n",
       "│ Silver Streak        │ While on a cross-c…  │ You never really g…  │ Gene Wilder, Jill Clayburgh, Richard Pryor      │\n",
       "│ Boomerang!           │ Connecticut prosec…  │ An excellent film.   │ Dana Andrews, Lee J. Cobb, Henry Harvey         │\n",
       "│ Alexandra's Project  │ Returning home fro…  │ De Heer, who also …  │ Gary Sweet, Helen Buday                         │\n",
       "│ American Gun         │ A distraught man (…  │ Martin internalize…  │ James Coburn, Virginia Madsen                   │\n",
       "│ Armstrong            │ Interviews and nev…  │ Amid the fawning i…  │ Neil Armstrong                                  │\n",
       "│ Silent Night, Dead…  │ An orphan raised b…  │ As slasher films g…  │ Lilyan Chauvin, Gilmer McCormick                │\n",
       "│ White Fang           │ This adaptation of…  │ The movie is magni…  │ Ethan Hawke, Jack Conroy, James Remar, Beauty…  │\n",
       "│ Alexandra's Project  │ Returning home fro…  │ It's really the fe…  │ Gary Sweet, Helen Buday                         │\n",
       "│ Stolen               │ A detective (Jon H…  │ Plays like a middl…  │ Jon Hamm                                        │\n",
       "│ Hoodlum              │ Having just been r…  │ This is a gangster…  │ Bumpy Johnson, Illinois Gordon, Francine Hugh…  │\n",
       "│ Meet Bill            │ A mild-mannered ba…  │ When all is said a…  │ Aaron Eckhart                                   │\n",
       "│ Amityville: The Aw…  │ When some footage …  │ It reminds us that…  │ None                                            │\n",
       "│ The Assignment       │ Annibal Ramirez (A…  │ A spy thriller wit…  │ Annibal Ramirez, Carlos Sanchez, Jack Shaw, A…  │\n",
       "│ The Jazz Singer      │ Jess Robin (Neil D…  │ Diamond tries his …  │ Jess Robin, Cantor Rabinovitch, Bubba, Keith …  │\n",
       "│ Boomerang!           │ Connecticut prosec…  │ Elia Kazan, as an …  │ Dana Andrews, Lee J. Cobb, Henry Harvey         │\n",
       "│ Badland              │ Home from Iraq a s…  │ Exploiting what it…  │ None                                            │\n",
       "│ Death in Love        │ Two sons struggle …  │ Yakin and his cast…  │ Yakin                                           │\n",
       "├──────────────────────┴──────────────────────┴──────────────────────┴─────────────────────────────────────────────────┤\n",
       "│ 20 rows                                                                                                    4 columns │\n",
       "└──────────────────────────────────────────────────────────────────────────────────────────────────────────────────────┘"
      ]
     },
     "execution_count": 9,
     "metadata": {},
     "output_type": "execute_result"
    }
   ],
   "source": [
    "query = (\n",
    "    \"SELECT movie_title, movie_info, review_content, LLM('Given {movie_title}, {movie_info} and a movie review as {review_content}, extract all character names that are mentioned.\"\n",
    "    \"Respond with just the character names and no other text. If there are no characters, respond with just None', movie_title, movie_info, review_content) AS character_names FROM movies_limit\")\n",
    "conn.sql(query)"
   ]
  },
  {
   "cell_type": "markdown",
   "metadata": {},
   "source": [
    "### Filter Queries"
   ]
  },
  {
   "cell_type": "markdown",
   "metadata": {},
   "source": [
    "We can also use the LLM query as filters, possibly in combination with projections"
   ]
  },
  {
   "cell_type": "code",
   "execution_count": 10,
   "metadata": {
    "tags": []
   },
   "outputs": [
    {
     "data": {
      "application/vnd.jupyter.widget-view+json": {
       "model_id": "b153ee1780e5479d9a89a10e2a483696",
       "version_major": 2,
       "version_minor": 0
      },
      "text/plain": [
       "FloatProgress(value=0.0, layout=Layout(width='auto'), style=ProgressStyle(bar_color='black'))"
      ]
     },
     "metadata": {},
     "output_type": "display_data"
    },
    {
     "name": "stdout",
     "output_type": "stream",
     "text": [
      "┌──────────────────────┬───────────────────────────────────────────────────────────────────────────────────────────────┐\n",
      "│     movie_title      │                                        review_content                                         │\n",
      "│       varchar        │                                            varchar                                            │\n",
      "├──────────────────────┼───────────────────────────────────────────────────────────────────────────────────────────────┤\n",
      "│ Amityville: The Aw…  │ A vulgar exercise of terror that, despite its defects, manages to stand out from its delect…  │\n",
      "│ After the Thin Man   │ After the Thin Man hasn't quite the spontaneity and charm of the original, but it's good my…  │\n",
      "│ Silver Streak        │ You never really get angry at it. You just want to shake it up because the elements for a f…  │\n",
      "│ Boomerang!           │ An excellent film.                                                                            │\n",
      "│ American Gun         │ Martin internalizes everything, and Coburn must communicate only through pained looks. It's…  │\n",
      "│ Armstrong            │ Amid the fawning interviews and familiar archival footage, the film offers a compelling win…  │\n",
      "│ White Fang           │ The movie is magnificently photographed on location. The performances are authentic and und…  │\n",
      "│ The Jazz Singer      │ Diamond tries his best. Olivier over compensates, but the songs are classic.                  │\n",
      "└──────────────────────┴───────────────────────────────────────────────────────────────────────────────────────────────┘\n",
      "\n"
     ]
    }
   ],
   "source": [
    "filter_query = (\n",
    "    \"SELECT movie_title, review_content FROM movies_limit WHERE \"\n",
    "    \"LLM('Given a movie review as {review_content}, classify the review as either POSITIVE, NEGATIVE, or NEUTRAL. \" \n",
    "    \"Respond with just the category and no other text.', review_content) == 'POSITIVE'\")\n",
    "conn.sql(filter_query).show()"
   ]
  },
  {
   "cell_type": "code",
   "execution_count": 12,
   "metadata": {
    "tags": []
   },
   "outputs": [
    {
     "data": {
      "application/vnd.jupyter.widget-view+json": {
       "model_id": "3e554a7f2e3a43abaec11a68b0240f58",
       "version_major": 2,
       "version_minor": 0
      },
      "text/plain": [
       "FloatProgress(value=0.0, layout=Layout(width='auto'), style=ProgressStyle(bar_color='black'))"
      ]
     },
     "metadata": {},
     "output_type": "display_data"
    },
    {
     "name": "stdout",
     "output_type": "stream",
     "text": [
      "┌───────────────────────────┬───────────────────────────────────────────────────────────────────┐\n",
      "│        movie_title        │                           kids_suitable                           │\n",
      "│          varchar          │                              varchar                              │\n",
      "├───────────────────────────┼───────────────────────────────────────────────────────────────────┤\n",
      "│ Amityville: The Awakening │ No                                                                │\n",
      "│ After the Thin Man        │ No                                                                │\n",
      "│ Silver Streak             │ Not suitable for kids                                             │\n",
      "│ Boomerang!                │ No, it's not suitable for kids.                                   │\n",
      "│ American Gun              │ \"No\"                                                              │\n",
      "│ Armstrong                 │ No                                                                │\n",
      "│ White Fang                │ I would say that the movie \"White Fang\" is not suitable for kids. │\n",
      "│ Alexandra's Project       │ Not suitable for kids                                             │\n",
      "│ Death in Love             │ No, this movie is not suitable for kids.                          │\n",
      "└───────────────────────────┴───────────────────────────────────────────────────────────────────┘\n",
      "\n"
     ]
    }
   ],
   "source": [
    "query = (\n",
    "    \"SELECT movie_title, LLM('Given {movie_title} and {movie_info}, determine if this movie is suitable for kids.', movie_title, movie_info) AS kids_suitable \"\n",
    "    \"FROM movies_limit WHERE \"\n",
    "    \"LLM('Given a movie review as {review_content}, classify the review as either POSITIVE, NEGATIVE, or NEUTRAL.\" \n",
    "    \"Respond with just the category and no other text.', review_content) == 'POSITIVE'\"\n",
    ")\n",
    "conn.sql(query).show()"
   ]
  },
  {
   "cell_type": "markdown",
   "metadata": {},
   "source": [
    "### Aggregate Query"
   ]
  },
  {
   "cell_type": "markdown",
   "metadata": {},
   "source": [
    "LLM queries can also be used in aggregates."
   ]
  },
  {
   "cell_type": "code",
   "execution_count": 14,
   "metadata": {
    "tags": []
   },
   "outputs": [
    {
     "data": {
      "application/vnd.jupyter.widget-view+json": {
       "model_id": "9121085a79464f44a2dd3b0f8ac7e8e0",
       "version_major": 2,
       "version_minor": 0
      },
      "text/plain": [
       "FloatProgress(value=0.0, layout=Layout(width='auto'), style=ProgressStyle(bar_color='black'))"
      ]
     },
     "metadata": {},
     "output_type": "display_data"
    },
    {
     "name": "stdout",
     "output_type": "stream",
     "text": [
      "┌────────────────────────────┬──────────────────────┐\n",
      "│        movie_title         │ average_review_score │\n",
      "│          varchar           │        double        │\n",
      "├────────────────────────────┼──────────────────────┤\n",
      "│ Amityville: The Awakening  │   2.6666666666666665 │\n",
      "│ Silent Night, Deadly Night │                  2.0 │\n",
      "│ Hoodlum                    │                  2.0 │\n",
      "│ Boomerang!                 │                  2.0 │\n",
      "│ Alexandra's Project        │                  2.0 │\n",
      "│ Meet Bill                  │                  2.0 │\n",
      "│ After the Thin Man         │                  1.0 │\n",
      "│ Death in Love              │                  2.0 │\n",
      "│ American Gun               │                  1.0 │\n",
      "│ Armstrong                  │                  2.0 │\n",
      "│ Badland                    │                  2.0 │\n",
      "│ White Fang                 │                  1.0 │\n",
      "│ Stolen                     │                  2.0 │\n",
      "│ The Assignment             │                  2.0 │\n",
      "│ The Jazz Singer            │                  2.0 │\n",
      "│ Silver Streak              │                  2.0 │\n",
      "├────────────────────────────┴──────────────────────┤\n",
      "│ 16 rows                                 2 columns │\n",
      "└───────────────────────────────────────────────────┘\n",
      "\n"
     ]
    }
   ],
   "source": [
    "query = (\n",
    "    \"SELECT movie_title, \" \n",
    "        \"AVG(CAST(LLM(\"\n",
    "            \"'Given a movie review as {review_content}, score the movie either as 1, 2, 3, with 3 as the highest. Return just the score and nothing else.', movie_title, movie_info) \"\n",
    "        \"AS integer)) AS average_review_score \"\n",
    "    \"FROM movies_limit GROUP BY movie_title \"\n",
    ")\n",
    "conn.sql(query).show()"
   ]
  }
 ],
 "metadata": {
  "kernelspec": {
   "display_name": "Python 3 (ipykernel)",
   "language": "python",
   "name": "python3"
  },
  "language_info": {
   "codemirror_mode": {
    "name": "ipython",
    "version": 3
   },
   "file_extension": ".py",
   "mimetype": "text/x-python",
   "name": "python",
   "nbconvert_exporter": "python",
   "pygments_lexer": "ipython3",
   "version": "3.9.18"
  }
 },
 "nbformat": 4,
 "nbformat_minor": 4
}
