{
 "cells": [
  {
   "cell_type": "markdown",
   "metadata": {},
   "source": [
    "# UDF"
   ]
  },
  {
   "cell_type": "code",
   "execution_count": 3,
   "metadata": {},
   "outputs": [],
   "source": [
    "import duckdb\n",
    "import concurrent.futures\n",
    "import openai\n",
    "\n",
    "# Set your OpenAI API key\n",
    "openai.api_key = 'your-api-key'\n",
    "ENGINE = 'your-open-ai-engine'\n",
    "\n",
    "from typing import List"
   ]
  },
  {
   "cell_type": "code",
   "execution_count": null,
   "metadata": {},
   "outputs": [],
   "source": [
    "def llm(query: str, context: List[str]):\n",
    "    \"\"\"\n",
    "    query: e.x. find the artist mentioned in the {review}\n",
    "    context: e.x. List[review]\n",
    "    \"\"\"\n",
    "    \n",
    "#     set_model_key()\n",
    "#     llm_chain = llm_dict[query]\n",
    "#     output = llm_chain.batch(context)\n",
    "\n",
    "    def invoke_llm(query: str, context: str):\n",
    "        \"\"\"\n",
    "        query: e.x. find the artist mentioned in the {review}\n",
    "        context: e.x. review \n",
    "        \"\"\"\n",
    "        set_model_key()\n",
    "\n",
    "        response_format = \"\"\"\n",
    "            You are a data analysis assistant who will respond with the artist name mentioned on reviews inputted. Answer with only the name.\n",
    "            For instance:\n",
    "            - If the review is 'I love the songs by Taylor Swift.', the answer is 'Taylor Swift'.\n",
    "            - If the review is 'This album reminds me of the Beatles', the answer is 'the Beatles'.\n",
    "        \"\"\"\n",
    "\n",
    "\n",
    "        response = openai.ChatCompletion.create(\n",
    "            engine=DEPLOYMENT_NAME, # engine = \"deployment_name\".\n",
    "            messages=[\n",
    "                {\"role\": \"system\", \"content\": response_format},\n",
    "                {\"role\": \"user\", \"content\": context}\n",
    "            ]\n",
    "        )\n",
    "\n",
    "        output = response['choices'][0]['message']['content']\n",
    "        return output\n",
    "\n",
    "    \n",
    "    responses = []\n",
    "    # We can use a with statement to ensure threads are cleaned up promptly\n",
    "    with concurrent.futures.ThreadPoolExecutor(max_workers=4) as executor:\n",
    "        # Start the load operations and mark each future with its URL\n",
    "        future_to_response = {executor.submit(invoke_llm, query, row): row for row in context}\n",
    "        for future in concurrent.futures.as_completed(future_to_response):\n",
    "            row = future_to_response[future]\n",
    "            try:\n",
    "                data = future.result()\n",
    "                responses.append(data)\n",
    "            except Exception as exc:\n",
    "                print('%r generated an exception: %s' % (row, exc))\n",
    "    \n",
    "    \n",
    "    return responses"
   ]
  }
 ],
 "metadata": {
  "kernelspec": {
   "display_name": "myenv",
   "language": "python",
   "name": "python3"
  },
  "language_info": {
   "codemirror_mode": {
    "name": "ipython",
    "version": 3
   },
   "file_extension": ".py",
   "mimetype": "text/x-python",
   "name": "python",
   "nbconvert_exporter": "python",
   "pygments_lexer": "ipython3",
   "version": "3.9.16"
  }
 },
 "nbformat": 4,
 "nbformat_minor": 2
}
