{
 "cells": [
  {
   "cell_type": "markdown",
   "metadata": {},
   "source": [
    "# LLM Queries in DuckDB"
   ]
  },
  {
   "cell_type": "markdown",
   "metadata": {},
   "source": [
    "This notebook walks through how to call LLMs directly as a UDF in a DuckDB database using [vLLM](https://github.com/vllm-project/vllm) as the inference engine."
   ]
  },
  {
   "cell_type": "markdown",
   "metadata": {},
   "source": [
    "## Initialize the LLM Engine"
   ]
  },
  {
   "cell_type": "code",
   "execution_count": 1,
   "metadata": {},
   "outputs": [
    {
     "name": "stdout",
     "output_type": "stream",
     "text": [
      "Starting vLLM engine...\n",
      "WARNING 04-10 18:22:10 config.py:211] gptq quantization is not fully optimized yet. The speed can be slower than non-quantized models.\n",
      "INFO 04-10 18:22:10 llm_engine.py:74] Initializing an LLM engine (v0.4.0.post1) with config: model='TheBloke/Llama-2-13B-chat-GPTQ', tokenizer='TheBloke/Llama-2-13B-chat-GPTQ', tokenizer_mode=auto, revision=None, tokenizer_revision=None, trust_remote_code=False, dtype=torch.float16, max_seq_len=4096, download_dir=None, load_format=auto, tensor_parallel_size=1, disable_custom_all_reduce=False, quantization=gptq, enforce_eager=False, kv_cache_dtype=auto, device_config=cuda, seed=0)\n",
      "INFO 04-10 18:22:11 selector.py:40] Cannot use FlashAttention backend for Volta and Turing GPUs.\n",
      "INFO 04-10 18:22:11 selector.py:25] Using XFormers backend.\n",
      "INFO 04-10 18:22:14 weight_utils.py:177] Using model weights format ['*.safetensors']\n",
      "INFO 04-10 18:22:17 model_runner.py:104] Loading model weights took 6.8127 GB\n",
      "INFO 04-10 18:22:22 gpu_executor.py:94] # GPU blocks: 433, # CPU blocks: 327\n",
      "INFO 04-10 18:22:25 model_runner.py:791] Capturing the model for CUDA graphs. This may lead to unexpected consequences if the model is not static. To run the model in eager mode, set 'enforce_eager=True' or use '--enforce-eager' in the CLI.\n",
      "INFO 04-10 18:22:25 model_runner.py:795] CUDA graphs can take additional 1~3 GiB memory per GPU. If you are running out of memory, consider decreasing `gpu_memory_utilization` or enforcing eager mode. You can also reduce the `max_num_seqs` as needed to decrease memory usage.\n"
     ]
    }
   ],
   "source": [
    "import llmsql\n",
    "from llmsql.llm.vllm import vLLM\n",
    "from vllm import EngineArgs\n",
    "\n",
    "args = EngineArgs(model=\"TheBloke/Llama-2-13B-chat-GPTQ\")\n",
    "\n",
    "# Initialize llmsql\n",
    "llmsql.init(vLLM(engine_args=args))\n"
   ]
  },
  {
   "cell_type": "markdown",
   "metadata": {},
   "source": [
    "## Load the movies dataset as a DuckDB table"
   ]
  },
  {
   "cell_type": "code",
   "execution_count": null,
   "metadata": {},
   "outputs": [
    {
     "data": {
      "text/plain": [
       "<duckdb.duckdb.DuckDBPyConnection at 0x70c7c578af30>"
      ]
     },
     "execution_count": 2,
     "metadata": {},
     "output_type": "execute_result"
    }
   ],
   "source": [
    "# Make sure you import duckdb from llmsql\n",
    "from llmsql.duckdb import duckdb\n",
    "\n",
    "# Create a table from the movies dataset\n",
    "conn = duckdb.connect(database=':memory:', read_only=False)\n",
    "conn.execute(\"CREATE TABLE movies AS SELECT * FROM read_csv('movies_small.csv')\")"
   ]
  },
  {
   "cell_type": "code",
   "execution_count": null,
   "metadata": {},
   "outputs": [
    {
     "name": "stdout",
     "output_type": "stream",
     "text": [
      "┌─────────┐\n",
      "│  name   │\n",
      "│ varchar │\n",
      "├─────────┤\n",
      "│ movies  │\n",
      "└─────────┘\n",
      "\n",
      "┌──────────────────────┬─────────────┬─────────┬─────────┬─────────┬─────────┐\n",
      "│     column_name      │ column_type │  null   │   key   │ default │  extra  │\n",
      "│       varchar        │   varchar   │ varchar │ varchar │ varchar │ varchar │\n",
      "├──────────────────────┼─────────────┼─────────┼─────────┼─────────┼─────────┤\n",
      "│ rotten_tomatoes_link │ VARCHAR     │ YES     │ NULL    │ NULL    │ NULL    │\n",
      "│ review_content       │ VARCHAR     │ YES     │ NULL    │ NULL    │ NULL    │\n",
      "│ movie_title          │ VARCHAR     │ YES     │ NULL    │ NULL    │ NULL    │\n",
      "│ movie_info           │ VARCHAR     │ YES     │ NULL    │ NULL    │ NULL    │\n",
      "│ id                   │ BIGINT      │ YES     │ NULL    │ NULL    │ NULL    │\n",
      "└──────────────────────┴─────────────┴─────────┴─────────┴─────────┴─────────┘\n",
      "\n"
     ]
    }
   ],
   "source": [
    "# View the table and fields in the table\n",
    "\n",
    "print(conn.sql(\"SHOW TABLES\"))\n",
    "\n",
    "print(conn.sql(\"DESCRIBE movies\"))"
   ]
  },
  {
   "cell_type": "markdown",
   "metadata": {},
   "source": [
    "## Run the LLM Queries"
   ]
  },
  {
   "cell_type": "code",
   "execution_count": null,
   "metadata": {},
   "outputs": [],
   "source": [
    "query = \"SELECT LLM('Recommend movies for the user based on {movie_info} and {review_content}', movie_info, review_content) FROM movies LIMIT 1\""
   ]
  },
  {
   "cell_type": "code",
   "execution_count": null,
   "metadata": {},
   "outputs": [
    {
     "ename": "InvalidInputException",
     "evalue": "Invalid Input Error: Python exception occurred while executing the UDF: RuntimeError: CUDA out of memory. Tried to allocate 270.00 MiB. GPU 0 has a total capacty of 14.58 GiB of which 241.56 MiB is free. Including non-PyTorch memory, this process has 14.33 GiB memory in use. Of the allocated memory 12.21 GiB is allocated by PyTorch, and 677.40 MiB is reserved by PyTorch but unallocated. If reserved but unallocated memory is large try setting max_split_size_mb to avoid fragmentation.  See documentation for Memory Management and PYTORCH_CUDA_ALLOC_CONF\nException raised from malloc at ../c10/cuda/CUDACachingAllocator.cpp:1438 (most recent call first):\nframe #0: c10::Error::Error(c10::SourceLocation, std::string) + 0x57 (0x70c9040ba617 in /home/ray/anaconda3/lib/python3.9/site-packages/torch/lib/libc10.so)\nframe #1: <unknown function> + 0x30f6c (0x70c904158f6c in /home/ray/anaconda3/lib/python3.9/site-packages/torch/lib/libc10_cuda.so)\nframe #2: <unknown function> + 0x3139e (0x70c90415939e in /home/ray/anaconda3/lib/python3.9/site-packages/torch/lib/libc10_cuda.so)\nframe #3: <unknown function> + 0x3175e (0x70c90415975e in /home/ray/anaconda3/lib/python3.9/site-packages/torch/lib/libc10_cuda.so)\nframe #4: <unknown function> + 0x16c1461 (0x70c88e3a9461 in /home/ray/anaconda3/lib/python3.9/site-packages/torch/lib/libtorch_cpu.so)\nframe #5: at::detail::empty_generic(c10::ArrayRef<long>, c10::Allocator*, c10::DispatchKeySet, c10::ScalarType, c10::optional<c10::MemoryFormat>) + 0x14 (0x70c88e3a1674 in /home/ray/anaconda3/lib/python3.9/site-packages/torch/lib/libtorch_cpu.so)\nframe #6: at::detail::empty_cuda(c10::ArrayRef<long>, c10::ScalarType, c10::optional<c10::Device>, c10::optional<c10::MemoryFormat>) + 0x111 (0x70c862256061 in /home/ray/anaconda3/lib/python3.9/site-packages/torch/lib/libtorch_cuda.so)\nframe #7: at::detail::empty_cuda(c10::ArrayRef<long>, c10::optional<c10::ScalarType>, c10::optional<c10::Layout>, c10::optional<c10::Device>, c10::optional<bool>, c10::optional<c10::MemoryFormat>) + 0x31 (0x70c862256331 in /home/ray/anaconda3/lib/python3.9/site-packages/torch/lib/libtorch_cuda.so)\nframe #8: at::native::empty_cuda(c10::ArrayRef<long>, c10::optional<c10::ScalarType>, c10::optional<c10::Layout>, c10::optional<c10::Device>, c10::optional<bool>, c10::optional<c10::MemoryFormat>) + 0x20 (0x70c8623833c0 in /home/ray/anaconda3/lib/python3.9/site-packages/torch/lib/libtorch_cuda.so)\nframe #9: <unknown function> + 0x2d403a9 (0x70c86416e3a9 in /home/ray/anaconda3/lib/python3.9/site-packages/torch/lib/libtorch_cuda.so)\nframe #10: <unknown function> + 0x2d4048b (0x70c86416e48b in /home/ray/anaconda3/lib/python3.9/site-packages/torch/lib/libtorch_cuda.so)\nframe #11: at::_ops::empty_memory_format::redispatch(c10::DispatchKeySet, c10::ArrayRef<c10::SymInt>, c10::optional<c10::ScalarType>, c10::optional<c10::Layout>, c10::optional<c10::Device>, c10::optional<bool>, c10::optional<c10::MemoryFormat>) + 0xe7 (0x70c88f2cf277 in /home/ray/anaconda3/lib/python3.9/site-packages/torch/lib/libtorch_cpu.so)\nframe #12: <unknown function> + 0x295eaef (0x70c88f646aef in /home/ray/anaconda3/lib/python3.9/site-packages/torch/lib/libtorch_cpu.so)\nframe #13: at::_ops::empty_memory_format::call(c10::ArrayRef<c10::SymInt>, c10::optional<c10::ScalarType>, c10::optional<c10::Layout>, c10::optional<c10::Device>, c10::optional<bool>, c10::optional<c10::MemoryFormat>) + 0x1a3 (0x70c88f3133e3 in /home/ray/anaconda3/lib/python3.9/site-packages/torch/lib/libtorch_cpu.so)\nframe #14: torch::empty(c10::ArrayRef<long>, c10::TensorOptions, c10::optional<c10::MemoryFormat>) + 0x23d (0x70c8138017cd in /home/ray/anaconda3/lib/python3.9/site-packages/vllm/_C.cpython-39-x86_64-linux-gnu.so)\nframe #15: gptq_gemm(at::Tensor, at::Tensor, at::Tensor, at::Tensor, at::Tensor, bool, int) + 0x2dd (0x70c8137fd9bd in /home/ray/anaconda3/lib/python3.9/site-packages/vllm/_C.cpython-39-x86_64-linux-gnu.so)\nframe #16: <unknown function> + 0x95a02 (0x70c813816a02 in /home/ray/anaconda3/lib/python3.9/site-packages/vllm/_C.cpython-39-x86_64-linux-gnu.so)\nframe #17: <unknown function> + 0x91713 (0x70c813812713 in /home/ray/anaconda3/lib/python3.9/site-packages/vllm/_C.cpython-39-x86_64-linux-gnu.so)\nframe #18: /home/ray/anaconda3/bin/python() [0x507387]\nframe #19: _PyObject_MakeTpCall + 0x2ec (0x4f073c in /home/ray/anaconda3/bin/python)\nframe #20: _PyEval_EvalFrameDefault + 0x5263 (0x4ecc93 in /home/ray/anaconda3/bin/python)\nframe #21: /home/ray/anaconda3/bin/python() [0x4e6b2a]\nframe #22: _PyFunction_Vectorcall + 0xd4 (0x4f7e54 in /home/ray/anaconda3/bin/python)\nframe #23: _PyEval_EvalFrameDefault + 0x685 (0x4e80b5 in /home/ray/anaconda3/bin/python)\nframe #24: /home/ray/anaconda3/bin/python() [0x4f8123]\nframe #25: /home/ray/anaconda3/bin/python() [0x505121]\nframe #26: _PyEval_EvalFrameDefault + 0x3e14 (0x4eb844 in /home/ray/anaconda3/bin/python)\nframe #27: /home/ray/anaconda3/bin/python() [0x4e6b2a]\nframe #28: _PyFunction_Vectorcall + 0xd4 (0x4f7e54 in /home/ray/anaconda3/bin/python)\nframe #29: /home/ray/anaconda3/bin/python() [0x505121]\nframe #30: _PyEval_EvalFrameDefault + 0x3e14 (0x4eb844 in /home/ray/anaconda3/bin/python)\nframe #31: /home/ray/anaconda3/bin/python() [0x4e6b2a]\nframe #32: _PyObject_FastCallDictTstate + 0x13e (0x4effae in /home/ray/anaconda3/bin/python)\nframe #33: _PyObject_Call_Prepend + 0x66 (0x502d86 in /home/ray/anaconda3/bin/python)\nframe #34: /home/ray/anaconda3/bin/python() [0x5cbd93]\nframe #35: _PyObject_MakeTpCall + 0x2ec (0x4f073c in /home/ray/anaconda3/bin/python)\nframe #36: _PyEval_EvalFrameDefault + 0x5263 (0x4ecc93 in /home/ray/anaconda3/bin/python)\nframe #37: /home/ray/anaconda3/bin/python() [0x4f8123]\nframe #38: /home/ray/anaconda3/bin/python() [0x505121]\nframe #39: _PyEval_EvalFrameDefault + 0x3e14 (0x4eb844 in /home/ray/anaconda3/bin/python)\nframe #40: /home/ray/anaconda3/bin/python() [0x4e6b2a]\nframe #41: _PyFunction_Vectorcall + 0xd4 (0x4f7e54 in /home/ray/anaconda3/bin/python)\nframe #42: /home/ray/anaconda3/bin/python() [0x505121]\nframe #43: _PyEval_EvalFrameDefault + 0x3e14 (0x4eb844 in /home/ray/anaconda3/bin/python)\nframe #44: /home/ray/anaconda3/bin/python() [0x4e6b2a]\nframe #45: _PyObject_FastCallDictTstate + 0x13e (0x4effae in /home/ray/anaconda3/bin/python)\nframe #46: _PyObject_Call_Prepend + 0x66 (0x502d86 in /home/ray/anaconda3/bin/python)\nframe #47: /home/ray/anaconda3/bin/python() [0x5cbd93]\nframe #48: _PyObject_MakeTpCall + 0x2ec (0x4f073c in /home/ray/anaconda3/bin/python)\nframe #49: _PyEval_EvalFrameDefault + 0x5263 (0x4ecc93 in /home/ray/anaconda3/bin/python)\nframe #50: /home/ray/anaconda3/bin/python() [0x4f8123]\nframe #51: /home/ray/anaconda3/bin/python() [0x505121]\nframe #52: _PyEval_EvalFrameDefault + 0x3e14 (0x4eb844 in /home/ray/anaconda3/bin/python)\nframe #53: /home/ray/anaconda3/bin/python() [0x4e6b2a]\nframe #54: _PyFunction_Vectorcall + 0xd4 (0x4f7e54 in /home/ray/anaconda3/bin/python)\nframe #55: /home/ray/anaconda3/bin/python() [0x505121]\nframe #56: _PyEval_EvalFrameDefault + 0x3e14 (0x4eb844 in /home/ray/anaconda3/bin/python)\nframe #57: /home/ray/anaconda3/bin/python() [0x4e6b2a]\nframe #58: _PyObject_FastCallDictTstate + 0x13e (0x4effae in /home/ray/anaconda3/bin/python)\nframe #59: _PyObject_Call_Prepend + 0xe0 (0x502e00 in /home/ray/anaconda3/bin/python)\nframe #60: /home/ray/anaconda3/bin/python() [0x5cbd93]\nframe #61: _PyObject_MakeTpCall + 0x2ec (0x4f073c in /home/ray/anaconda3/bin/python)\nframe #62: _PyEval_EvalFrameDefault + 0x4b5a (0x4ec58a in /home/ray/anaconda3/bin/python)\nframe #63: /home/ray/anaconda3/bin/python() [0x4e6b2a]\n\n\nAt:\n  /home/ray/anaconda3/lib/python3.9/site-packages/vllm/model_executor/layers/quantization/gptq.py(208): apply_weights\n  /home/ray/anaconda3/lib/python3.9/site-packages/vllm/model_executor/layers/linear.py(215): forward\n  /home/ray/anaconda3/lib/python3.9/site-packages/torch/nn/modules/module.py(1527): _call_impl\n  /home/ray/anaconda3/lib/python3.9/site-packages/torch/nn/modules/module.py(1518): _wrapped_call_impl\n  /home/ray/anaconda3/lib/python3.9/site-packages/vllm/model_executor/models/llama.py(75): forward\n  /home/ray/anaconda3/lib/python3.9/site-packages/torch/nn/modules/module.py(1527): _call_impl\n  /home/ray/anaconda3/lib/python3.9/site-packages/torch/nn/modules/module.py(1518): _wrapped_call_impl\n  /home/ray/anaconda3/lib/python3.9/site-packages/vllm/model_executor/models/llama.py(223): forward\n  /home/ray/anaconda3/lib/python3.9/site-packages/torch/nn/modules/module.py(1527): _call_impl\n  /home/ray/anaconda3/lib/python3.9/site-packages/torch/nn/modules/module.py(1518): _wrapped_call_impl\n  /home/ray/anaconda3/lib/python3.9/site-packages/vllm/model_executor/models/llama.py(271): forward\n  /home/ray/anaconda3/lib/python3.9/site-packages/torch/nn/modules/module.py(1527): _call_impl\n  /home/ray/anaconda3/lib/python3.9/site-packages/torch/nn/modules/module.py(1518): _wrapped_call_impl\n  /home/ray/anaconda3/lib/python3.9/site-packages/vllm/model_executor/models/llama.py(345): forward\n  /home/ray/anaconda3/lib/python3.9/site-packages/torch/nn/modules/module.py(1527): _call_impl\n  /home/ray/anaconda3/lib/python3.9/site-packages/torch/nn/modules/module.py(1518): _wrapped_call_impl\n  /home/ray/anaconda3/lib/python3.9/site-packages/vllm/worker/model_runner.py(663): execute_model\n  /home/ray/anaconda3/lib/python3.9/site-packages/torch/utils/_contextlib.py(115): decorate_context\n  /home/ray/anaconda3/lib/python3.9/site-packages/vllm/worker/worker.py(221): execute_model\n  /home/ray/anaconda3/lib/python3.9/site-packages/torch/utils/_contextlib.py(115): decorate_context\n  /home/ray/anaconda3/lib/python3.9/site-packages/vllm/executor/gpu_executor.py(114): execute_model\n  /home/ray/anaconda3/lib/python3.9/site-packages/vllm/engine/llm_engine.py(676): step\n  /home/ray/anaconda3/lib/python3.9/site-packages/vllm/entrypoints/llm.py(218): _run_engine\n  /home/ray/anaconda3/lib/python3.9/site-packages/vllm/entrypoints/llm.py(190): generate\n  /home/ray/default_cld_cv8egzp1tm3uvi738tt5bycjmm/LLM-SQL-Demo/llmsql/llm/vllm.py(51): execute\n  /home/ray/default_cld_cv8egzp1tm3uvi738tt5bycjmm/LLM-SQL-Demo/llmsql/duckdb/__init__.py(14): llm_udf\n",
     "output_type": "error",
     "traceback": [
      "\u001b[0;31m---------------------------------------------------------------------------\u001b[0m",
      "\u001b[0;31mInvalidInputException\u001b[0m                     Traceback (most recent call last)",
      "Cell \u001b[0;32mIn[30], line 1\u001b[0m\n\u001b[0;32m----> 1\u001b[0m query_result \u001b[38;5;241m=\u001b[39m \u001b[43mconn\u001b[49m\u001b[38;5;241;43m.\u001b[39;49m\u001b[43mexecute\u001b[49m\u001b[43m(\u001b[49m\u001b[43mquery\u001b[49m\u001b[43m)\u001b[49m\u001b[38;5;241m.\u001b[39mfetchall()\n",
      "File \u001b[0;32m~/default_cld_cv8egzp1tm3uvi738tt5bycjmm/LLM-SQL-Demo/llmsql/duckdb/__init__.py:62\u001b[0m, in \u001b[0;36moverride_execute\u001b[0;34m(self, sql_query)\u001b[0m\n\u001b[1;32m     60\u001b[0m \u001b[39mdef\u001b[39;00m \u001b[39moverride_execute\u001b[39m(\u001b[39mself\u001b[39m, sql_query: \u001b[39mstr\u001b[39m):\n\u001b[1;32m     61\u001b[0m     sql_query \u001b[39m=\u001b[39m rewrite_sql(sql_query)\n\u001b[0;32m---> 62\u001b[0m     \u001b[39mreturn\u001b[39;00m original_execute(\u001b[39mself\u001b[39;49m, sql_query)\n",
      "\u001b[0;31mInvalidInputException\u001b[0m: Invalid Input Error: Python exception occurred while executing the UDF: RuntimeError: CUDA out of memory. Tried to allocate 270.00 MiB. GPU 0 has a total capacty of 14.58 GiB of which 241.56 MiB is free. Including non-PyTorch memory, this process has 14.33 GiB memory in use. Of the allocated memory 12.21 GiB is allocated by PyTorch, and 677.40 MiB is reserved by PyTorch but unallocated. If reserved but unallocated memory is large try setting max_split_size_mb to avoid fragmentation.  See documentation for Memory Management and PYTORCH_CUDA_ALLOC_CONF\nException raised from malloc at ../c10/cuda/CUDACachingAllocator.cpp:1438 (most recent call first):\nframe #0: c10::Error::Error(c10::SourceLocation, std::string) + 0x57 (0x70c9040ba617 in /home/ray/anaconda3/lib/python3.9/site-packages/torch/lib/libc10.so)\nframe #1: <unknown function> + 0x30f6c (0x70c904158f6c in /home/ray/anaconda3/lib/python3.9/site-packages/torch/lib/libc10_cuda.so)\nframe #2: <unknown function> + 0x3139e (0x70c90415939e in /home/ray/anaconda3/lib/python3.9/site-packages/torch/lib/libc10_cuda.so)\nframe #3: <unknown function> + 0x3175e (0x70c90415975e in /home/ray/anaconda3/lib/python3.9/site-packages/torch/lib/libc10_cuda.so)\nframe #4: <unknown function> + 0x16c1461 (0x70c88e3a9461 in /home/ray/anaconda3/lib/python3.9/site-packages/torch/lib/libtorch_cpu.so)\nframe #5: at::detail::empty_generic(c10::ArrayRef<long>, c10::Allocator*, c10::DispatchKeySet, c10::ScalarType, c10::optional<c10::MemoryFormat>) + 0x14 (0x70c88e3a1674 in /home/ray/anaconda3/lib/python3.9/site-packages/torch/lib/libtorch_cpu.so)\nframe #6: at::detail::empty_cuda(c10::ArrayRef<long>, c10::ScalarType, c10::optional<c10::Device>, c10::optional<c10::MemoryFormat>) + 0x111 (0x70c862256061 in /home/ray/anaconda3/lib/python3.9/site-packages/torch/lib/libtorch_cuda.so)\nframe #7: at::detail::empty_cuda(c10::ArrayRef<long>, c10::optional<c10::ScalarType>, c10::optional<c10::Layout>, c10::optional<c10::Device>, c10::optional<bool>, c10::optional<c10::MemoryFormat>) + 0x31 (0x70c862256331 in /home/ray/anaconda3/lib/python3.9/site-packages/torch/lib/libtorch_cuda.so)\nframe #8: at::native::empty_cuda(c10::ArrayRef<long>, c10::optional<c10::ScalarType>, c10::optional<c10::Layout>, c10::optional<c10::Device>, c10::optional<bool>, c10::optional<c10::MemoryFormat>) + 0x20 (0x70c8623833c0 in /home/ray/anaconda3/lib/python3.9/site-packages/torch/lib/libtorch_cuda.so)\nframe #9: <unknown function> + 0x2d403a9 (0x70c86416e3a9 in /home/ray/anaconda3/lib/python3.9/site-packages/torch/lib/libtorch_cuda.so)\nframe #10: <unknown function> + 0x2d4048b (0x70c86416e48b in /home/ray/anaconda3/lib/python3.9/site-packages/torch/lib/libtorch_cuda.so)\nframe #11: at::_ops::empty_memory_format::redispatch(c10::DispatchKeySet, c10::ArrayRef<c10::SymInt>, c10::optional<c10::ScalarType>, c10::optional<c10::Layout>, c10::optional<c10::Device>, c10::optional<bool>, c10::optional<c10::MemoryFormat>) + 0xe7 (0x70c88f2cf277 in /home/ray/anaconda3/lib/python3.9/site-packages/torch/lib/libtorch_cpu.so)\nframe #12: <unknown function> + 0x295eaef (0x70c88f646aef in /home/ray/anaconda3/lib/python3.9/site-packages/torch/lib/libtorch_cpu.so)\nframe #13: at::_ops::empty_memory_format::call(c10::ArrayRef<c10::SymInt>, c10::optional<c10::ScalarType>, c10::optional<c10::Layout>, c10::optional<c10::Device>, c10::optional<bool>, c10::optional<c10::MemoryFormat>) + 0x1a3 (0x70c88f3133e3 in /home/ray/anaconda3/lib/python3.9/site-packages/torch/lib/libtorch_cpu.so)\nframe #14: torch::empty(c10::ArrayRef<long>, c10::TensorOptions, c10::optional<c10::MemoryFormat>) + 0x23d (0x70c8138017cd in /home/ray/anaconda3/lib/python3.9/site-packages/vllm/_C.cpython-39-x86_64-linux-gnu.so)\nframe #15: gptq_gemm(at::Tensor, at::Tensor, at::Tensor, at::Tensor, at::Tensor, bool, int) + 0x2dd (0x70c8137fd9bd in /home/ray/anaconda3/lib/python3.9/site-packages/vllm/_C.cpython-39-x86_64-linux-gnu.so)\nframe #16: <unknown function> + 0x95a02 (0x70c813816a02 in /home/ray/anaconda3/lib/python3.9/site-packages/vllm/_C.cpython-39-x86_64-linux-gnu.so)\nframe #17: <unknown function> + 0x91713 (0x70c813812713 in /home/ray/anaconda3/lib/python3.9/site-packages/vllm/_C.cpython-39-x86_64-linux-gnu.so)\nframe #18: /home/ray/anaconda3/bin/python() [0x507387]\nframe #19: _PyObject_MakeTpCall + 0x2ec (0x4f073c in /home/ray/anaconda3/bin/python)\nframe #20: _PyEval_EvalFrameDefault + 0x5263 (0x4ecc93 in /home/ray/anaconda3/bin/python)\nframe #21: /home/ray/anaconda3/bin/python() [0x4e6b2a]\nframe #22: _PyFunction_Vectorcall + 0xd4 (0x4f7e54 in /home/ray/anaconda3/bin/python)\nframe #23: _PyEval_EvalFrameDefault + 0x685 (0x4e80b5 in /home/ray/anaconda3/bin/python)\nframe #24: /home/ray/anaconda3/bin/python() [0x4f8123]\nframe #25: /home/ray/anaconda3/bin/python() [0x505121]\nframe #26: _PyEval_EvalFrameDefault + 0x3e14 (0x4eb844 in /home/ray/anaconda3/bin/python)\nframe #27: /home/ray/anaconda3/bin/python() [0x4e6b2a]\nframe #28: _PyFunction_Vectorcall + 0xd4 (0x4f7e54 in /home/ray/anaconda3/bin/python)\nframe #29: /home/ray/anaconda3/bin/python() [0x505121]\nframe #30: _PyEval_EvalFrameDefault + 0x3e14 (0x4eb844 in /home/ray/anaconda3/bin/python)\nframe #31: /home/ray/anaconda3/bin/python() [0x4e6b2a]\nframe #32: _PyObject_FastCallDictTstate + 0x13e (0x4effae in /home/ray/anaconda3/bin/python)\nframe #33: _PyObject_Call_Prepend + 0x66 (0x502d86 in /home/ray/anaconda3/bin/python)\nframe #34: /home/ray/anaconda3/bin/python() [0x5cbd93]\nframe #35: _PyObject_MakeTpCall + 0x2ec (0x4f073c in /home/ray/anaconda3/bin/python)\nframe #36: _PyEval_EvalFrameDefault + 0x5263 (0x4ecc93 in /home/ray/anaconda3/bin/python)\nframe #37: /home/ray/anaconda3/bin/python() [0x4f8123]\nframe #38: /home/ray/anaconda3/bin/python() [0x505121]\nframe #39: _PyEval_EvalFrameDefault + 0x3e14 (0x4eb844 in /home/ray/anaconda3/bin/python)\nframe #40: /home/ray/anaconda3/bin/python() [0x4e6b2a]\nframe #41: _PyFunction_Vectorcall + 0xd4 (0x4f7e54 in /home/ray/anaconda3/bin/python)\nframe #42: /home/ray/anaconda3/bin/python() [0x505121]\nframe #43: _PyEval_EvalFrameDefault + 0x3e14 (0x4eb844 in /home/ray/anaconda3/bin/python)\nframe #44: /home/ray/anaconda3/bin/python() [0x4e6b2a]\nframe #45: _PyObject_FastCallDictTstate + 0x13e (0x4effae in /home/ray/anaconda3/bin/python)\nframe #46: _PyObject_Call_Prepend + 0x66 (0x502d86 in /home/ray/anaconda3/bin/python)\nframe #47: /home/ray/anaconda3/bin/python() [0x5cbd93]\nframe #48: _PyObject_MakeTpCall + 0x2ec (0x4f073c in /home/ray/anaconda3/bin/python)\nframe #49: _PyEval_EvalFrameDefault + 0x5263 (0x4ecc93 in /home/ray/anaconda3/bin/python)\nframe #50: /home/ray/anaconda3/bin/python() [0x4f8123]\nframe #51: /home/ray/anaconda3/bin/python() [0x505121]\nframe #52: _PyEval_EvalFrameDefault + 0x3e14 (0x4eb844 in /home/ray/anaconda3/bin/python)\nframe #53: /home/ray/anaconda3/bin/python() [0x4e6b2a]\nframe #54: _PyFunction_Vectorcall + 0xd4 (0x4f7e54 in /home/ray/anaconda3/bin/python)\nframe #55: /home/ray/anaconda3/bin/python() [0x505121]\nframe #56: _PyEval_EvalFrameDefault + 0x3e14 (0x4eb844 in /home/ray/anaconda3/bin/python)\nframe #57: /home/ray/anaconda3/bin/python() [0x4e6b2a]\nframe #58: _PyObject_FastCallDictTstate + 0x13e (0x4effae in /home/ray/anaconda3/bin/python)\nframe #59: _PyObject_Call_Prepend + 0xe0 (0x502e00 in /home/ray/anaconda3/bin/python)\nframe #60: /home/ray/anaconda3/bin/python() [0x5cbd93]\nframe #61: _PyObject_MakeTpCall + 0x2ec (0x4f073c in /home/ray/anaconda3/bin/python)\nframe #62: _PyEval_EvalFrameDefault + 0x4b5a (0x4ec58a in /home/ray/anaconda3/bin/python)\nframe #63: /home/ray/anaconda3/bin/python() [0x4e6b2a]\n\n\nAt:\n  /home/ray/anaconda3/lib/python3.9/site-packages/vllm/model_executor/layers/quantization/gptq.py(208): apply_weights\n  /home/ray/anaconda3/lib/python3.9/site-packages/vllm/model_executor/layers/linear.py(215): forward\n  /home/ray/anaconda3/lib/python3.9/site-packages/torch/nn/modules/module.py(1527): _call_impl\n  /home/ray/anaconda3/lib/python3.9/site-packages/torch/nn/modules/module.py(1518): _wrapped_call_impl\n  /home/ray/anaconda3/lib/python3.9/site-packages/vllm/model_executor/models/llama.py(75): forward\n  /home/ray/anaconda3/lib/python3.9/site-packages/torch/nn/modules/module.py(1527): _call_impl\n  /home/ray/anaconda3/lib/python3.9/site-packages/torch/nn/modules/module.py(1518): _wrapped_call_impl\n  /home/ray/anaconda3/lib/python3.9/site-packages/vllm/model_executor/models/llama.py(223): forward\n  /home/ray/anaconda3/lib/python3.9/site-packages/torch/nn/modules/module.py(1527): _call_impl\n  /home/ray/anaconda3/lib/python3.9/site-packages/torch/nn/modules/module.py(1518): _wrapped_call_impl\n  /home/ray/anaconda3/lib/python3.9/site-packages/vllm/model_executor/models/llama.py(271): forward\n  /home/ray/anaconda3/lib/python3.9/site-packages/torch/nn/modules/module.py(1527): _call_impl\n  /home/ray/anaconda3/lib/python3.9/site-packages/torch/nn/modules/module.py(1518): _wrapped_call_impl\n  /home/ray/anaconda3/lib/python3.9/site-packages/vllm/model_executor/models/llama.py(345): forward\n  /home/ray/anaconda3/lib/python3.9/site-packages/torch/nn/modules/module.py(1527): _call_impl\n  /home/ray/anaconda3/lib/python3.9/site-packages/torch/nn/modules/module.py(1518): _wrapped_call_impl\n  /home/ray/anaconda3/lib/python3.9/site-packages/vllm/worker/model_runner.py(663): execute_model\n  /home/ray/anaconda3/lib/python3.9/site-packages/torch/utils/_contextlib.py(115): decorate_context\n  /home/ray/anaconda3/lib/python3.9/site-packages/vllm/worker/worker.py(221): execute_model\n  /home/ray/anaconda3/lib/python3.9/site-packages/torch/utils/_contextlib.py(115): decorate_context\n  /home/ray/anaconda3/lib/python3.9/site-packages/vllm/executor/gpu_executor.py(114): execute_model\n  /home/ray/anaconda3/lib/python3.9/site-packages/vllm/engine/llm_engine.py(676): step\n  /home/ray/anaconda3/lib/python3.9/site-packages/vllm/entrypoints/llm.py(218): _run_engine\n  /home/ray/anaconda3/lib/python3.9/site-packages/vllm/entrypoints/llm.py(190): generate\n  /home/ray/default_cld_cv8egzp1tm3uvi738tt5bycjmm/LLM-SQL-Demo/llmsql/llm/vllm.py(51): execute\n  /home/ray/default_cld_cv8egzp1tm3uvi738tt5bycjmm/LLM-SQL-Demo/llmsql/duckdb/__init__.py(14): llm_udf\n"
     ]
    }
   ],
   "source": [
    "query_result = conn.execute(query).fetchall()"
   ]
  },
  {
   "cell_type": "code",
   "execution_count": null,
   "metadata": {},
   "outputs": [],
   "source": []
  }
 ],
 "metadata": {
  "language_info": {
   "name": "python"
  },
  "orig_nbformat": 4
 },
 "nbformat": 4,
 "nbformat_minor": 2
}
